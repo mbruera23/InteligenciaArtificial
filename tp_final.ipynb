{
 "cells": [
  {
   "cell_type": "markdown",
   "metadata": {},
   "source": [
    "Instrucciones\n",
    "=============\n",
    "\n",
    "1. Instalar ipython notebook\n",
    "----------------------------\n",
    "\n",
    "Ipython notebook es lo que usamos para crear y ejecutar estos \"documentos con código\" (notebooks). Lo instalamos usando pip:\n",
    "\n",
    "    pip install \"ipython[notebook]\"\n",
    "    \n",
    "(con ``sudo`` antes, para los que están en linux y no están usando virtualenvs)\n",
    "\n",
    "\n",
    "2. Instalar libs\n",
    "----------------\n",
    "\n",
    "Además vamos a estar usando varias libs útiles, que se instalan también con pip:\n",
    "\n",
    "    pip install scikit-learn scipy pandas matplotlib keras tensorflow h5py\n",
    "    \n",
    "\n",
    "3. Abrir este notebook\n",
    "----------------------\n",
    "\n",
    "Bajen los archivos ``tp_final.ipynb`` y ``utils.py`` del repo (directorio ``2017/tp_final``), luego abran una consola, ingresen al directorio donde se encuentran los archivos, y ejecuten:\n",
    "\n",
    "    ipython notebook\n",
    "  \n",
    "Esto les va a abrir una ventana del navegador web, donde pueden ver la lista de archivos del directorio, y entre esos archivos van a ver el notebook que se bajaron. Háganle click para abrirlo.\n",
    "\n",
    "4. Uso del notebook\n",
    "-------------------\n",
    "\n",
    "La interfaz es bastante sencilla. Algunas cosas básicas que les pueden resultar útiles:\n",
    "\n",
    " * Para modificar el texto de una celda, háganle ``click`` o ``doble click``.\n",
    "\n",
    " * Para ejecutar una celda sola de forma rápida, usen ``shift+enter`` (en las de código, ejecuta el código, en las de texto, lo renderiza). \n",
    " \n",
    " * Mientras el código se está ejecutando, al lado de la celda van a ver un ``[*]``. Eso significa que la celda aún se está ejecutando. Cuando ven un número (ej: ``[42]``), significa que ya terminó de ejecutarse (y el número es el orden en el cual esa celda fue ejecutada).\n",
    " \n",
    " * Pueden ejecutar todas las veces que quieran las celdas, en el orden que prefieran, etc. (pero claramente, para arrancar conviene ejecutar las celdas en orden)\n",
    "\n",
    "Pueden experimentar con el resto de las cosas que ven en la interfaz :)\n",
    "    \n",
    "Consigna\n",
    "========\n",
    "\n",
    "¿Qué tan buenos somos para reconocer personas?. Casi todos podríamos decir que lo hacemos muy bien, sin embargo ...\n",
    "\n",
    "<img src=\"https://k42.kn3.net/6/F/2/E/B/C/EC0.jpg\" width=\"50%\" />\n",
    "\n",
    "<center>¿Luca Modric o David Guetta?</center>\n",
    "\n",
    "<img src=\"http://www.oddities123.com/wp-content/uploads/2016/02/similar-looking-people-7.jpg\" width=\"50%\" />\n",
    "\n",
    "<center>¿Jack Nicholson o Leonardo Dicaprio?</center>\n",
    "\n",
    "<img src=\"http://1.bp.blogspot.com/_BQ05SdY_Qk0/SmoUY1TVaeI/AAAAAAAAAUE/NwiqQgpb_Dg/s400/Fabio+Posca+-+Bob+Pati%C3%B1o.jpg\" width=\"50%\" />\n",
    "\n",
    "<div>\n",
    "\n",
    "<img src=\"https://i.imgur.com/0ppqBFz.jpg\" width=\"25%\" />\n",
    "<img src=\"https://lh6.googleusercontent.com/-60b0uUWJlhA/AAAAAAAAAAI/AAAAAAAAt4E/BHc54O2XIqs/photo.jpg\" width=\"25%\" />\n",
    "\n",
    "</div>\n",
    "\n",
    "<center>¿Fisa o guerrero medieval?</center>\n",
    "\n",
    "-----------\n",
    "\n",
    "Como queda claro, a veces la cosa se puede complicar y no resulta tan sencillo :) Y si quisieramos programar algo a mano que sepa resolver esta tarea? Sería prácticamente imposible.\n",
    "\n",
    "En este trabajo práctico vamos a utilizar redes neuronales para intentar ayudar a una máquina con esta tarea. Claro, como la máquina es la primera vez que se encuentra con este problema nos vamos a guardar los parecidos para más adelante y vamos a empezar a enseñarle a reconocer a algunos de los profes de la cátedra usando redes neuronales!\n",
    "\n",
    "Para poder hacer esto, tenemos un conjunto de datos de datos que contiene 4920 imágenes clasificadas de ariel, fisa, gabi y mariano. En cada uno de estos casos tenemos la certeza (etiqueta) de quién es el que figura en la imagen. Vamos a usar este set de datos para entrenar el modelo y ver qué tan bien le está yendo a la hora de clasificar personas.\n",
    "\n",
    "En clases vamos a ver cómo construir una red neuronal básica, y en este notebook ya tienen el código necesario para leer los datos, mostrar las imágenes, y evaluar la exactitud de la red.\n",
    "El trabajo de ustedes consistirá en escribir el fragmento de código que construye y entrena la red neuronal, de forma tal que las métricas indiquen un 70% o más de accuracy en el conjunto de **test**.\n",
    "\n",
    "Como el resultado no es el mismo si corren varias veces el código, lo que deben lograr es una red que en **al menos 3 de 5 ejecuciones**, logre 70% o más de accuracy.\n",
    "No es válido entregar código que alguna vez tuvimos suerte y llegó al 70%, pero que habitualmente no lo alcanza.\n",
    "\n",
    "La entrega se realizará subiendo el archivo ``tp_final.ipynb`` modificado por ustedes, a la **raiz** del repositorio del grupo."
   ]
  },
  {
   "cell_type": "markdown",
   "metadata": {},
   "source": [
    "# Imports y configs"
   ]
  },
  {
   "cell_type": "code",
   "execution_count": 1,
   "metadata": {},
   "outputs": [
    {
     "name": "stderr",
     "output_type": "stream",
     "text": [
      "Using TensorFlow backend.\n"
     ]
    }
   ],
   "source": [
    "# imports de libs que usamos para leer y procesar datos en masa\n",
    "import os\n",
    "\n",
    "import numpy as np\n",
    "import pandas as pd\n",
    "\n",
    "# lib que usamos para mostrar las imágenes\n",
    "import matplotlib.pyplot as plt\n",
    "\n",
    "# libs que usamos para tareas generales de machine learning: separar conjuntos de datos, evaluar exactitud, etc\n",
    "from sklearn.model_selection import train_test_split\n",
    "from sklearn.metrics import classification_report, accuracy_score\n",
    "\n",
    "# libs que usamos para construir y entrenar redes neuronales\n",
    "from keras.models import Sequential\n",
    "from keras.layers import Dense, Activation, Input, Dropout, Convolution2D, MaxPooling2D, Flatten\n",
    "\n",
    "# cosas que definimos en nuestro proyecto\n",
    "from utils import get_input_columns\n",
    "\n",
    "# configuración para que las imágenes se vean dentro del notebook\n",
    "%matplotlib inline"
   ]
  },
  {
   "cell_type": "code",
   "execution_count": 2,
   "metadata": {},
   "outputs": [],
   "source": [
    "# algunas configuraciones generales respecto a las imagenes\n",
    "PICTURE_SIZE = 64\n",
    "CHANNELS = 'rgb'\n",
    "INPUT_COLUMNS = get_input_columns(PICTURE_SIZE)"
   ]
  },
  {
   "cell_type": "markdown",
   "metadata": {},
   "source": [
    "Datos\n",
    "=====\n",
    "\n",
    "Leemos todas las imágenes que están guardadas en un solo archivo y mostramos 5 filas de ejemplo. Para que esto funcione, deben bajar el archivo ``data_64x64.pkl`` desde [este link](https://drive.google.com/drive/folders/0B5cCDhynqkqDczZDd3JTSENFcDg?usp=sharing) y ubicarlo en el mismo directorio que el notebook (en el link los archivos están comprimidos, así que van a tener que extraerlos después de bajarlos).\n",
    "\n",
    "Cada fila es una imagen. Cada imagen tiene muchos pixeles. Y cada pixel tiene 3 valores: cuánto de rojo, cuánto de verde y cuánto de azul (estos son \"canales\" de color).\n",
    "\n",
    "Eso quiere decir que si la imagen tiene 64 x 64 pixeles, y cada pixel tiene 3 valores, entonces tenemos 64 x 64 x 3 = 12.288 columnas.\n",
    "\n",
    "Luego tenemos 3 columnas más que no son pixeles: \n",
    "\n",
    "- 'person': indica que persona está en la foto, o dicho técnicamente, la etiqueta para ese caso (ariel, fisa, gabi o mariano)\n",
    "- 'file': el nombre de la imagen original (para uso interno nuestro)\n",
    "- 'place': el lugar donde fue tomado el video (nos sirve para separar sets de imágenes)\n",
    "\n",
    "En el link donde está el dataset también les dejamos imágenes en menor resolución (24x24 y 32x32), por si les demora demasiado y quieren intentar con sets más livianos. Si van a usar otro dataset y no el de 64x64, recuerden actualizar la setting ``PICTURE_SIZE``."
   ]
  },
  {
   "cell_type": "code",
   "execution_count": 3,
   "metadata": {},
   "outputs": [
    {
     "name": "stdout",
     "output_type": "stream",
     "text": [
      "reading data...\n"
     ]
    },
    {
     "data": {
      "text/plain": [
       "(4920, 12291)"
      ]
     },
     "execution_count": 3,
     "metadata": {},
     "output_type": "execute_result"
    }
   ],
   "source": [
    "print('reading data...')\n",
    "data = pd.read_pickle('./data_{}x{}.pkl'.format(PICTURE_SIZE, PICTURE_SIZE))\n",
    "data.shape"
   ]
  },
  {
   "cell_type": "code",
   "execution_count": 4,
   "metadata": {},
   "outputs": [
    {
     "data": {
      "text/html": [
       "<div>\n",
       "<style scoped>\n",
       "    .dataframe tbody tr th:only-of-type {\n",
       "        vertical-align: middle;\n",
       "    }\n",
       "\n",
       "    .dataframe tbody tr th {\n",
       "        vertical-align: top;\n",
       "    }\n",
       "\n",
       "    .dataframe thead th {\n",
       "        text-align: right;\n",
       "    }\n",
       "</style>\n",
       "<table border=\"1\" class=\"dataframe\">\n",
       "  <thead>\n",
       "    <tr style=\"text-align: right;\">\n",
       "      <th></th>\n",
       "      <th>r0</th>\n",
       "      <th>r1</th>\n",
       "      <th>r2</th>\n",
       "      <th>r3</th>\n",
       "      <th>r4</th>\n",
       "      <th>r5</th>\n",
       "      <th>r6</th>\n",
       "      <th>r7</th>\n",
       "      <th>r8</th>\n",
       "      <th>r9</th>\n",
       "      <th>...</th>\n",
       "      <th>b4089</th>\n",
       "      <th>b4090</th>\n",
       "      <th>b4091</th>\n",
       "      <th>b4092</th>\n",
       "      <th>b4093</th>\n",
       "      <th>b4094</th>\n",
       "      <th>b4095</th>\n",
       "      <th>file</th>\n",
       "      <th>person</th>\n",
       "      <th>place</th>\n",
       "    </tr>\n",
       "  </thead>\n",
       "  <tbody>\n",
       "    <tr>\n",
       "      <th>3408</th>\n",
       "      <td>174</td>\n",
       "      <td>175</td>\n",
       "      <td>176</td>\n",
       "      <td>177</td>\n",
       "      <td>178</td>\n",
       "      <td>179</td>\n",
       "      <td>180</td>\n",
       "      <td>181</td>\n",
       "      <td>182</td>\n",
       "      <td>183</td>\n",
       "      <td>...</td>\n",
       "      <td>214</td>\n",
       "      <td>166</td>\n",
       "      <td>149</td>\n",
       "      <td>146</td>\n",
       "      <td>200</td>\n",
       "      <td>222</td>\n",
       "      <td>219</td>\n",
       "      <td>gabi_pared_mp4_266.jpg</td>\n",
       "      <td>gabi</td>\n",
       "      <td>pared</td>\n",
       "    </tr>\n",
       "    <tr>\n",
       "      <th>3752</th>\n",
       "      <td>165</td>\n",
       "      <td>165</td>\n",
       "      <td>169</td>\n",
       "      <td>171</td>\n",
       "      <td>172</td>\n",
       "      <td>173</td>\n",
       "      <td>174</td>\n",
       "      <td>174</td>\n",
       "      <td>175</td>\n",
       "      <td>177</td>\n",
       "      <td>...</td>\n",
       "      <td>23</td>\n",
       "      <td>23</td>\n",
       "      <td>24</td>\n",
       "      <td>25</td>\n",
       "      <td>24</td>\n",
       "      <td>26</td>\n",
       "      <td>20</td>\n",
       "      <td>gabi_pared_mp4_610.jpg</td>\n",
       "      <td>gabi</td>\n",
       "      <td>pared</td>\n",
       "    </tr>\n",
       "    <tr>\n",
       "      <th>2533</th>\n",
       "      <td>115</td>\n",
       "      <td>115</td>\n",
       "      <td>115</td>\n",
       "      <td>115</td>\n",
       "      <td>113</td>\n",
       "      <td>114</td>\n",
       "      <td>113</td>\n",
       "      <td>112</td>\n",
       "      <td>113</td>\n",
       "      <td>113</td>\n",
       "      <td>...</td>\n",
       "      <td>29</td>\n",
       "      <td>34</td>\n",
       "      <td>38</td>\n",
       "      <td>40</td>\n",
       "      <td>37</td>\n",
       "      <td>41</td>\n",
       "      <td>44</td>\n",
       "      <td>gabi_aula_mp4_012.jpg</td>\n",
       "      <td>gabi</td>\n",
       "      <td>aula</td>\n",
       "    </tr>\n",
       "    <tr>\n",
       "      <th>4258</th>\n",
       "      <td>78</td>\n",
       "      <td>80</td>\n",
       "      <td>82</td>\n",
       "      <td>77</td>\n",
       "      <td>82</td>\n",
       "      <td>83</td>\n",
       "      <td>84</td>\n",
       "      <td>87</td>\n",
       "      <td>89</td>\n",
       "      <td>92</td>\n",
       "      <td>...</td>\n",
       "      <td>33</td>\n",
       "      <td>34</td>\n",
       "      <td>36</td>\n",
       "      <td>65</td>\n",
       "      <td>114</td>\n",
       "      <td>130</td>\n",
       "      <td>132</td>\n",
       "      <td>mariano_cortina_mp4_172.jpg</td>\n",
       "      <td>mariano</td>\n",
       "      <td>cortina</td>\n",
       "    </tr>\n",
       "    <tr>\n",
       "      <th>1148</th>\n",
       "      <td>163</td>\n",
       "      <td>163</td>\n",
       "      <td>163</td>\n",
       "      <td>164</td>\n",
       "      <td>165</td>\n",
       "      <td>167</td>\n",
       "      <td>167</td>\n",
       "      <td>167</td>\n",
       "      <td>169</td>\n",
       "      <td>170</td>\n",
       "      <td>...</td>\n",
       "      <td>12</td>\n",
       "      <td>17</td>\n",
       "      <td>16</td>\n",
       "      <td>18</td>\n",
       "      <td>19</td>\n",
       "      <td>17</td>\n",
       "      <td>17</td>\n",
       "      <td>ariel_pared_mp4_445.jpg</td>\n",
       "      <td>ariel</td>\n",
       "      <td>pared</td>\n",
       "    </tr>\n",
       "  </tbody>\n",
       "</table>\n",
       "<p>5 rows × 12291 columns</p>\n",
       "</div>"
      ],
      "text/plain": [
       "       r0   r1   r2   r3   r4   r5   r6   r7   r8   r9   ...     b4089  b4090  \\\n",
       "3408  174  175  176  177  178  179  180  181  182  183   ...       214    166   \n",
       "3752  165  165  169  171  172  173  174  174  175  177   ...        23     23   \n",
       "2533  115  115  115  115  113  114  113  112  113  113   ...        29     34   \n",
       "4258   78   80   82   77   82   83   84   87   89   92   ...        33     34   \n",
       "1148  163  163  163  164  165  167  167  167  169  170   ...        12     17   \n",
       "\n",
       "      b4091  b4092  b4093  b4094  b4095                         file   person  \\\n",
       "3408    149    146    200    222    219       gabi_pared_mp4_266.jpg     gabi   \n",
       "3752     24     25     24     26     20       gabi_pared_mp4_610.jpg     gabi   \n",
       "2533     38     40     37     41     44        gabi_aula_mp4_012.jpg     gabi   \n",
       "4258     36     65    114    130    132  mariano_cortina_mp4_172.jpg  mariano   \n",
       "1148     16     18     19     17     17      ariel_pared_mp4_445.jpg    ariel   \n",
       "\n",
       "        place  \n",
       "3408    pared  \n",
       "3752    pared  \n",
       "2533     aula  \n",
       "4258  cortina  \n",
       "1148    pared  \n",
       "\n",
       "[5 rows x 12291 columns]"
      ]
     },
     "execution_count": 4,
     "metadata": {},
     "output_type": "execute_result"
    }
   ],
   "source": [
    "data.sample(5)"
   ]
  },
  {
   "cell_type": "markdown",
   "metadata": {},
   "source": [
    "Y consultamos además qué etiquetas hay en general:"
   ]
  },
  {
   "cell_type": "code",
   "execution_count": 5,
   "metadata": {},
   "outputs": [
    {
     "data": {
      "text/plain": [
       "['ariel', 'fisa', 'gabi', 'mariano']"
      ]
     },
     "execution_count": 5,
     "metadata": {},
     "output_type": "execute_result"
    }
   ],
   "source": [
    "PERSONS = list(data.person.unique())\n",
    "PERSONS"
   ]
  },
  {
   "cell_type": "markdown",
   "metadata": {},
   "source": [
    "Esta función nos permite pasarle un conjunto de imagenes (filas de la tabla), y nos las dibuja. También admite usar varias columnas de la tabla como título para cada imagen."
   ]
  },
  {
   "cell_type": "code",
   "execution_count": 6,
   "metadata": {},
   "outputs": [],
   "source": [
    "def show_images(samples, title='file'):\n",
    "    for index, sample in samples.iterrows():\n",
    "        if title is not None:\n",
    "            if isinstance(title, str):\n",
    "                title = [title, ]\n",
    "            title_text = ', '.join(str(sample[title_field]) for title_field in title)\n",
    "            plt.title(title_text)\n",
    "\n",
    "        sample_as_grid = sample[INPUT_COLUMNS].values.reshape(len(CHANNELS), PICTURE_SIZE, PICTURE_SIZE).astype(np.float)\n",
    "        sample_as_grid = np.transpose(sample_as_grid, (1, 2, 0)) / 255\n",
    "        \n",
    "        plt.axis('off')\n",
    "        plt.imshow(sample_as_grid, interpolation='nearest')\n",
    "\n",
    "        plt.show()"
   ]
  },
  {
   "cell_type": "markdown",
   "metadata": {},
   "source": [
    "Mostramos algunas imágenes de ejemplo al azar. Pueden ustedes distinguir lo que hay en cada imagen? (si ejecutan esta celda muchas veces, van a ir viendo imágenes diferentes)."
   ]
  },
  {
   "cell_type": "code",
   "execution_count": 7,
   "metadata": {},
   "outputs": [
    {
     "data": {
      "image/png": "[encoded data removed]",
      "text/plain": [
       "<matplotlib.figure.Figure at 0x7fb74ca2a4e0>"
      ]
     },
     "metadata": {},
     "output_type": "display_data"
    },
    {
     "data": {
      "image/png": "[encoded data removed]",
      "text/plain": [
       "<matplotlib.figure.Figure at 0x7fb74c9dc828>"
      ]
     },
     "metadata": {},
     "output_type": "display_data"
    },
    {
     "data": {
      "image/png": "[encoded data removed]",
      "text/plain": [
       "<matplotlib.figure.Figure at 0x7fb74c9d8a58>"
      ]
     },
     "metadata": {},
     "output_type": "display_data"
    },
    {
     "data": {
      "image/png": "[encoded data removed]",
      "text/plain": [
       "<matplotlib.figure.Figure at 0x7fb74c941fd0>"
      ]
     },
     "metadata": {},
     "output_type": "display_data"
    },
    {
     "data": {
      "image/png": "[encoded data removed]",
      "text/plain": [
       "<matplotlib.figure.Figure at 0x7fb74c8f3358>"
      ]
     },
     "metadata": {},
     "output_type": "display_data"
    }
   ],
   "source": [
    "show_images(data.sample(5), 'person')"
   ]
  },
  {
   "cell_type": "markdown",
   "metadata": {},
   "source": [
    "Y finalmente, separamos los datos en dos conjuntos, vamos a utilizar uno para entrenar la red y el otro para testearla (y de esa forma asegurarnos de que no estamos sobreentrenando, evaluar cómo se va a comportar con casos que no usó para entrenar, etc).\n",
    "Para hacer esto nos vamos a valer del lugar dónde fue sacada la foto, es decir, vamos a construir nuestro conjunto de test a partir de las fotos que tienen como fondo la cortina."
   ]
  },
  {
   "cell_type": "code",
   "execution_count": 8,
   "metadata": {},
   "outputs": [
    {
     "name": "stdout",
     "output_type": "stream",
     "text": [
      "#################### train labels ####################\n",
      "gabi       993\n",
      "fisa       960\n",
      "ariel      958\n",
      "mariano    875\n",
      "Name: person, dtype: int64\n",
      "\n",
      "#################### test labels ####################\n",
      "ariel      333\n",
      "fisa       271\n",
      "gabi       265\n",
      "mariano    265\n",
      "Name: person, dtype: int64\n",
      "\n"
     ]
    }
   ],
   "source": [
    "train = data[data.place != 'cortina'].copy()\n",
    "test = data[data.place == 'cortina'].copy()\n",
    "\n",
    "sets = (\n",
    "    ('train', train),\n",
    "    ('test', test),\n",
    ")\n",
    "\n",
    "for set_name, set_data in sets:\n",
    "    print('#' * 20, set_name, 'labels', '#' * 20)\n",
    "    print(set_data.person.value_counts())\n",
    "    print()"
   ]
  },
  {
   "cell_type": "markdown",
   "metadata": {},
   "source": [
    "Red neuronal\n",
    "============\n",
    "\n",
    "Estas funciones nos van a ser útiles para no repetir código cada vez que queramos obtener las columnas de entrada y las salidas, en el formato de arrays que la red neuronal espera."
   ]
  },
  {
   "cell_type": "code",
   "execution_count": 9,
   "metadata": {},
   "outputs": [],
   "source": [
    "def extract_inputs(dataset):\n",
    "    \"\"\" Extrae del conjunto de datos original solo \n",
    "        las columnas que se deben utilizar como entrada. \n",
    "    \"\"\"\n",
    "    return dataset[INPUT_COLUMNS].values / 255\n",
    "\n",
    "\n",
    "def extract_outputs(dataset):\n",
    "    \"\"\" Extrae del conjunto de datos original solo la \n",
    "    columna que se debe utilizar como salida y retorna\n",
    "    tantas columnas como etiquetas distintas existan.\n",
    "    Por ejemplo, podríamos pensar que las columnas resultantes\n",
    "    serían: es_fisa, es_gabi, es_mariano.\n",
    "    \"\"\"\n",
    "    \n",
    "    is_person_columns = [(dataset.person == person).values for person in PERSONS]\n",
    "    return np.array(is_person_columns).T"
   ]
  },
  {
   "cell_type": "markdown",
   "metadata": {},
   "source": [
    "Y aquí es donde ustedes tienen que completar su entrega:"
   ]
  },
  {
   "cell_type": "code",
   "execution_count": 109,
   "metadata": {},
   "outputs": [],
   "source": [
    "model = Sequential([Dense(128, input_shape =(len(INPUT_COLUMNS),),activation='tanh'),\n",
    "                    Dense(16, kernel_initializer='uniform', activation='relu'),\n",
    "                    Dense(32, kernel_initializer='uniform', activation='tanh'),\n",
    "                    Dense(4, kernel_initializer='uniform', activation='softmax')])\n",
    "# Compilar la red aquí\n",
    "model.compile(optimizer = 'adam', loss='categorical_crossentropy',metrics = ['accuracy'])"
   ]
  },
  {
   "cell_type": "code",
   "execution_count": 110,
   "metadata": {},
   "outputs": [
    {
     "name": "stdout",
     "output_type": "stream",
     "text": [
      "Epoch 1/15\n",
      "3786/3786 [==============================] - 8s 2ms/step - loss: 1.3791 - acc: 0.2665\n",
      "Epoch 2/15\n",
      "3786/3786 [==============================] - 5s 1ms/step - loss: 1.2835 - acc: 0.5367\n",
      "Epoch 3/15\n",
      "3786/3786 [==============================] - 5s 1ms/step - loss: 0.9570 - acc: 0.5095\n",
      "Epoch 4/15\n",
      "3786/3786 [==============================] - 5s 1ms/step - loss: 0.7498 - acc: 0.5359\n",
      "Epoch 5/15\n",
      "3786/3786 [==============================] - 5s 1ms/step - loss: 0.7100 - acc: 0.5391\n",
      "Epoch 6/15\n",
      "3786/3786 [==============================] - 5s 1ms/step - loss: 0.6702 - acc: 0.7102\n",
      "Epoch 7/15\n",
      "3786/3786 [==============================] - 5s 1ms/step - loss: 0.5735 - acc: 0.7623\n",
      "Epoch 8/15\n",
      "3786/3786 [==============================] - 5s 1ms/step - loss: 0.4700 - acc: 0.7702\n",
      "Epoch 9/15\n",
      "3786/3786 [==============================] - 5s 1ms/step - loss: 0.4017 - acc: 0.7792\n",
      "Epoch 10/15\n",
      "3786/3786 [==============================] - 5s 1ms/step - loss: 0.3483 - acc: 0.9189\n",
      "Epoch 11/15\n",
      "3786/3786 [==============================] - 5s 1ms/step - loss: 0.2806 - acc: 0.9878\n",
      "Epoch 12/15\n",
      "3786/3786 [==============================] - 5s 1ms/step - loss: 0.1991 - acc: 0.9937\n",
      "Epoch 13/15\n",
      "3786/3786 [==============================] - 5s 1ms/step - loss: 0.1304 - acc: 0.9979\n",
      "Epoch 14/15\n",
      "3786/3786 [==============================] - 5s 1ms/step - loss: 0.0922 - acc: 0.9989\n",
      "Epoch 15/15\n",
      "3786/3786 [==============================] - 5s 1ms/step - loss: 0.0660 - acc: 1.0000\n"
     ]
    },
    {
     "data": {
      "text/plain": [
       "<keras.callbacks.History at 0x7fb72db58ef0>"
      ]
     },
     "execution_count": 110,
     "metadata": {},
     "output_type": "execute_result"
    }
   ],
   "source": [
    "model.fit(extract_inputs(train),extract_outputs(train),epochs=10, batch_size = 100)"
   ]
  },
  {
   "cell_type": "markdown",
   "metadata": {},
   "source": [
    "Una vez entrenada, pueden evaluar la performance de la red neuronal utilizando los dos conjuntos, con este fragmento de código.\n",
    "\n",
    "Deben lograr que **accuracy** en el conjunto de **test** llege a 70% (0.7) o más.\n",
    "\n",
    "Esta función nos va a ser útil para agrupar las predicciones y poder comparar."
   ]
  },
  {
   "cell_type": "code",
   "execution_count": 111,
   "metadata": {},
   "outputs": [],
   "source": [
    "def add_predictions(dataset):\n",
    "    predictions = model.predict(extract_inputs(dataset))\n",
    "    for person_number, person in enumerate(PERSONS):\n",
    "        dataset[person] = predictions[:, person_number]\n",
    "    \n",
    "    dataset['prediction'] = dataset[PERSONS].idxmax(axis=1)\n",
    "    dataset['correct'] = dataset.prediction == dataset.person"
   ]
  },
  {
   "cell_type": "code",
   "execution_count": 112,
   "metadata": {},
   "outputs": [
    {
     "name": "stdout",
     "output_type": "stream",
     "text": [
      "######################### train #########################\n",
      "accuracy 1.0\n",
      "             precision    recall  f1-score   support\n",
      "\n",
      "      ariel       1.00      1.00      1.00       958\n",
      "       fisa       1.00      1.00      1.00       960\n",
      "       gabi       1.00      1.00      1.00       993\n",
      "    mariano       1.00      1.00      1.00       875\n",
      "\n",
      "avg / total       1.00      1.00      1.00      3786\n",
      "\n",
      "######################### test #########################\n",
      "accuracy 0.621693121693\n",
      "             precision    recall  f1-score   support\n",
      "\n",
      "      ariel       1.00      0.79      0.88       333\n",
      "       fisa       0.81      0.53      0.64       271\n",
      "       gabi       0.46      1.00      0.63       265\n",
      "    mariano       0.27      0.12      0.17       265\n",
      "\n",
      "avg / total       0.66      0.62      0.60      1134\n",
      "\n"
     ]
    }
   ],
   "source": [
    "for set_name, set_data in sets:\n",
    "    add_predictions(set_data)\n",
    "    \n",
    "    print('#' * 25, set_name, '#' * 25)\n",
    "    print('accuracy', accuracy_score(set_data.person, set_data.prediction))\n",
    "    print(classification_report(set_data.person, set_data.prediction))"
   ]
  },
  {
   "cell_type": "markdown",
   "metadata": {},
   "source": [
    "Finalmente, podemos mostrar algunos ejemplos del conjunto de test para evaluar cómo le fue (las predicciones fueron agregadas en el paso anterior, al llamar a ``add_predictions``).\n",
    "\n",
    "El título en cada imagen indica el nombre de la persona en la foto seguido de la predicción que hizo la red.\n",
    "\n",
    "Mostramos primero algunos que hayan sido bien clasificados, y luego otros que hayan sido mal clasificados."
   ]
  },
  {
   "cell_type": "code",
   "execution_count": null,
   "metadata": {
    "scrolled": false
   },
   "outputs": [],
   "source": [
    "show_images(test[test.person == test.prediction].sample(10), title=['person', 'prediction'])"
   ]
  },
  {
   "cell_type": "code",
   "execution_count": null,
   "metadata": {
    "collapsed": true
   },
   "outputs": [],
   "source": [
    "show_images(test[test.person != test.prediction].sample(10), title=['person', 'prediction'])"
   ]
  }
 ],
 "metadata": {
  "kernelspec": {
   "display_name": "Python 3",
   "language": "python",
   "name": "python3"
  },
  "language_info": {
   "codemirror_mode": {
    "name": "ipython",
    "version": 3
   },
   "file_extension": ".py",
   "mimetype": "text/x-python",
   "name": "python",
   "nbconvert_exporter": "python",
   "pygments_lexer": "ipython3",
   "version": "3.5.2"
  }
 },
 "nbformat": 4,
 "nbformat_minor": 2
}
